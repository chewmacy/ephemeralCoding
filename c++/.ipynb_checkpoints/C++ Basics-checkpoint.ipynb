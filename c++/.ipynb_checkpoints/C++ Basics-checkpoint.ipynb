{
 "cells": [
  {
   "cell_type": "markdown",
   "metadata": {},
   "source": [
    "# C++ Basics\n",
    "### Compilation of a few concepts and examples for better understanding of the C++ programming language"
   ]
  },
  {
   "cell_type": "markdown",
   "metadata": {},
   "source": [
    "### Lvalues and Rvalues\n",
    "There are two kinds of expressions in C++:\n",
    "* lvalue (read left value): expressions that refer to a memory location. May appear on both sides of an assignment.\n",
    "    * y = 3\n",
    "    * y = x + 3\n",
    "* rvalue (read right value): refers to a data value that is stored at some address in memory. It's an expression that connot have a value assigned to it."
   ]
  },
  {
   "cell_type": "markdown",
   "metadata": {},
   "source": [
    "### I/O Stream\n",
    "* Implements stream based input/output capabilities. This file defines the cin, cout, cerr and clog objects."
   ]
  },
  {
   "cell_type": "code",
   "execution_count": 3,
   "metadata": {},
   "outputs": [],
   "source": [
    "#include <iostream>"
   ]
  },
  {
   "cell_type": "markdown",
   "metadata": {},
   "source": [
    "* output stream: **cout** is an instance of **ostream** class\n",
    "    * **<<** stream insertion operation\n",
    "* input stream: **cin** is an instance of **istream** class\n",
    "    * **>>** stream extraction operator"
   ]
  },
  {
   "cell_type": "markdown",
   "metadata": {},
   "source": [
    "### The ? : operator\n",
    "Exp1 ? Exp2 : Exp3;   \n",
    "   \n",
    "The value is determined by:\n",
    "* if Exp1 is true - then Exp2 is evaluated and becomes the value of the entire '?' expression\n",
    "* if Exp1 is false - then Exp3 is evaluated and becomes the value of the entire '?' expression"
   ]
  },
  {
   "cell_type": "code",
   "execution_count": 1,
   "metadata": {},
   "outputs": [],
   "source": [
    "#include <iostream>\n",
    "\n",
    "int f = 1;\n",
    "int r = 2;"
   ]
  },
  {
   "cell_type": "code",
   "execution_count": 2,
   "metadata": {},
   "outputs": [],
   "source": [
    "int questionMarkExample(){\n",
    "\n",
    "  f == r ? std::cout << \"f is equal to r\" : std::cout << \"f is not equal to r\";\n",
    "\n",
    "  return 0;\n",
    "}"
   ]
  },
  {
   "cell_type": "code",
   "execution_count": 3,
   "metadata": {},
   "outputs": [
    {
     "name": "stdout",
     "output_type": "stream",
     "text": [
      "f is not equal to r"
     ]
    }
   ],
   "source": [
    "int main() {\n",
    "  questionMarkExample();\n",
    "  return 0;\n",
    "}\n",
    "\n",
    "main();"
   ]
  },
  {
   "cell_type": "markdown",
   "metadata": {},
   "source": [
    "### Storage classes\n",
    "* extern - give a reference of a global variable that is visible to ALL the program files. An 'extern' variable cannot be initialized, it is used to declare a global variable or function in another file\n",
    "* static - the compiler keeps a local variable in existence during the life-time of the program instead of creating and destroying it each time it comes into and goes out of scope. "
   ]
  },
  {
   "cell_type": "markdown",
   "metadata": {},
   "source": [
    "### Namespace\n",
    "* Defines the context in which names are defined. Defines a named scope. Namespaces are used to group related names and to avoid clashes between similar sames in different parts of large programs."
   ]
  },
  {
   "cell_type": "code",
   "execution_count": 1,
   "metadata": {},
   "outputs": [],
   "source": [
    "#include <iostream>\n",
    "\n",
    "using namespace std; // avoids prepending namespaces --  std::cout vs cout"
   ]
  },
  {
   "cell_type": "code",
   "execution_count": 3,
   "metadata": {},
   "outputs": [],
   "source": [
    "//first namespace\n",
    "namespace first_space {\n",
    "    void func() {\n",
    "        cout << \"Inside first_space\" << endl;\n",
    "    }\n",
    "}\n",
    "\n",
    "// second namespace\n",
    "namespace second_space {\n",
    "    void func() {\n",
    "        cout << \"inside second_space\" << endl;\n",
    "    }\n",
    "}\n"
   ]
  },
  {
   "cell_type": "markdown",
   "metadata": {},
   "source": [
    "### Main\n",
    "The function main is the designated start of a C++ program. It accepts zero or two arguments supplied by the OS as the program starts.  \n",
    "   \n",
    "For example:   \n",
    "* int main()   \n",
    "* int main (int argc, char *argv[])       \n",
    "    * \"argc\" is the number of arguments specified on the command line    \n",
    "    * \"argv\" is an array of null-terminated strings containing the arguments in the order they appear. The name of the executable is stored in argv[0]."
   ]
  },
  {
   "cell_type": "code",
   "execution_count": 4,
   "metadata": {},
   "outputs": [
    {
     "name": "stdout",
     "output_type": "stream",
     "text": [
      "Inside first_space\n",
      "inside second_space\n"
     ]
    }
   ],
   "source": [
    "int main() {\n",
    "\n",
    "    //Calls funcion from first namespace\n",
    "    first_space::func();\n",
    "    //Calls funcion from second namespace\n",
    "    second_space::func();\n",
    "    \n",
    "    return 0;\n",
    "}\n",
    "\n",
    "main();"
   ]
  },
  {
   "cell_type": "markdown",
   "metadata": {},
   "source": [
    "### Pointers\n",
    "A pointer is a variable whose value is the address of another variable. \n",
    "* type *var-name;"
   ]
  },
  {
   "cell_type": "markdown",
   "metadata": {},
   "source": [
    "### References \n",
    "\n",
    "A reference variable is an alias (i.e. another name for an existing variable)\n"
   ]
  },
  {
   "cell_type": "code",
   "execution_count": 1,
   "metadata": {},
   "outputs": [],
   "source": [
    "#include <iostream>\n",
    "\n",
    "using namespace std;"
   ]
  },
  {
   "cell_type": "code",
   "execution_count": 2,
   "metadata": {},
   "outputs": [
    {
     "name": "stdout",
     "output_type": "stream",
     "text": [
      "Value of var variable: \n",
      "0x7ffee4fdf4c8Address stored in ip variable: \n",
      "0x7ffee4fdf4c8Value of *ip variable: \n",
      "20"
     ]
    }
   ],
   "source": [
    "int main() {\n",
    "    int var = 20; // actual variable declaration\n",
    "    int *ip; // pointer variable\n",
    "\n",
    "    ip = &var; // store address of var in pointer variable\n",
    "\n",
    "    // print the address stored in ip pointer variable\n",
    "    cout << \"Value of var variable: \" << endl;;\n",
    "    cout << ip;\n",
    "\n",
    "    // print the address store in ip pointer variable\n",
    "    cout << \"Address stored in ip variable: \" << endl;\n",
    "    cout << ip;\n",
    "\n",
    "    // access the value at the address available in pointer\n",
    "    cout << \"Value of *ip variable: \" << endl;\n",
    "    cout << *ip;\n",
    "    \n",
    "  return 0;\n",
    "}\n",
    "\n",
    "main();"
   ]
  },
  {
   "cell_type": "code",
   "execution_count": null,
   "metadata": {},
   "outputs": [],
   "source": []
  }
 ],
 "metadata": {
  "kernelspec": {
   "display_name": "xeus C++14",
   "language": "",
   "name": "xeus-cling-cpp14"
  },
  "language_info": {
   "codemirror_mode": "text/x-c++src",
   "file_extension": ".cpp",
   "mimetype": "text/x-c++src",
   "name": "c++",
   "version": ""
  }
 },
 "nbformat": 4,
 "nbformat_minor": 2
}
